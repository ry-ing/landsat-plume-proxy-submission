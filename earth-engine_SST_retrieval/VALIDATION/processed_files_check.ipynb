{
 "cells": [
  {
   "cell_type": "code",
   "execution_count": 3,
   "metadata": {},
   "outputs": [
    {
     "name": "stdout",
     "output_type": "stream",
     "text": [
      "There are 2513 duplicate files. This is 6.0089428755888195% of the total files.\n",
      "Total number of files: 41821\n"
     ]
    }
   ],
   "source": [
    "def check_duplicates(filename):\n",
    "    with open(filename, 'r') as file:\n",
    "        lines = file.readlines()\n",
    "        unique_lines = set(lines)\n",
    "        total_lines = len(lines)\n",
    "        total_unique_lines = len(unique_lines)\n",
    "        duplicate_lines = total_lines - total_unique_lines\n",
    "        if duplicate_lines > 0:\n",
    "            duplicate_percentage = (duplicate_lines / total_lines) * 100\n",
    "            print(f\"There are {duplicate_lines} duplicate files. This is {duplicate_percentage}% of the total files.\")\n",
    "        else:\n",
    "            print(\"There are no duplicate files.\")\n",
    "        print(f\"Total number of files: {total_lines}\")\n",
    "\n",
    "check_duplicates(\"processed_files.txt\")"
   ]
  },
  {
   "cell_type": "code",
   "execution_count": 4,
   "metadata": {},
   "outputs": [
    {
     "name": "stdout",
     "output_type": "stream",
     "text": [
      "There are 2513 duplicate files. This is 6.0089428755888195% of the total files.\n",
      "Random examples of duplicate files:\n",
      "R:/CMS_CORA_in-situ_arc/INSITU_GLO_PHY_TS_DISCRETE_MY_013_001/cmems_obs-ins_glo_phy-temp-sal_my_easycora_irr/arctic\\1985\\ECO_DMQCGL01_19851115_TS_MO.nc\n",
      "R:/CMS_CORA_in-situ_arc/INSITU_GLO_PHY_TS_DISCRETE_MY_013_001/cmems_obs-ins_glo_phy-temp-sal_my_easycora_irr/arctic\\1985\\ECO_DMQCGL01_19851125_TS_MO.nc\n",
      "R:/CMS_CORA_in-situ_arc/INSITU_GLO_PHY_TS_DISCRETE_MY_013_001/cmems_obs-ins_glo_phy-temp-sal_my_easycora_irr/arctic\\1985\\ECO_DMQCGL01_19850720_PR_CT.nc\n",
      "R:/CMS_CORA_in-situ_arc/INSITU_GLO_PHY_TS_DISCRETE_MY_013_001/cmems_obs-ins_glo_phy-temp-sal_my_easycora_irr/arctic\\1985\\ECO_DMQCGL01_19850104_TS_MO.nc\n",
      "R:/CMS_CORA_in-situ_arc/INSITU_GLO_PHY_TS_DISCRETE_MY_013_001/cmems_obs-ins_glo_phy-temp-sal_my_easycora_irr/arctic\\1985\\ECO_DMQCGL01_19851209_PR_CT.nc\n",
      "Total number of files: 41821\n"
     ]
    }
   ],
   "source": [
    "import random\n",
    "from collections import Counter\n",
    "\n",
    "def check_duplicates(filename):\n",
    "    with open(filename, 'r') as file:\n",
    "        lines = [line.strip() for line in file.readlines()]\n",
    "        total_lines = len(lines)\n",
    "        file_counter = Counter(lines)\n",
    "        duplicates = [file for file, count in file_counter.items() if count > 1]\n",
    "        duplicate_lines = len(lines) - len(file_counter)\n",
    "        if duplicate_lines > 0:\n",
    "            duplicate_percentage = (duplicate_lines / total_lines) * 100\n",
    "            print(f\"There are {duplicate_lines} duplicate files. This is {duplicate_percentage}% of the total files.\")\n",
    "            print(\"Random examples of duplicate files:\")\n",
    "            for file in random.sample(duplicates, min(5, len(duplicates))):\n",
    "                print(file)\n",
    "        else:\n",
    "            print(\"There are no duplicate files.\")\n",
    "        print(f\"Total number of files: {total_lines}\")\n",
    "\n",
    "check_duplicates(\"processed_files.txt\")"
   ]
  }
 ],
 "metadata": {
  "kernelspec": {
   "display_name": "GFSTS_base",
   "language": "python",
   "name": "python3"
  },
  "language_info": {
   "codemirror_mode": {
    "name": "ipython",
    "version": 3
   },
   "file_extension": ".py",
   "mimetype": "text/x-python",
   "name": "python",
   "nbconvert_exporter": "python",
   "pygments_lexer": "ipython3",
   "version": "3.8.17"
  }
 },
 "nbformat": 4,
 "nbformat_minor": 2
}
