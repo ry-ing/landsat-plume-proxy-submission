{
 "cells": [
  {
   "cell_type": "code",
   "execution_count": 143,
   "metadata": {},
   "outputs": [],
   "source": [
    "import xarray as xr\n",
    "import numpy as np"
   ]
  },
  {
   "cell_type": "code",
   "execution_count": 150,
   "metadata": {},
   "outputs": [
    {
     "name": "stdout",
     "output_type": "stream",
     "text": [
      "The first time is between the start and end dates.\n"
     ]
    }
   ],
   "source": [
    "data_dir = r'C:\\Users\\s1834371\\Documents\\PLUMES\\validation\\easy_CORA_test\\ECO_DMQCGL01_20220102_PR_CT.nc'\n",
    "\n",
    "easy_CORA_test = xr.open_dataset(data_dir)\n",
    "\n",
    "if 'DEPH' not in easy_CORA_test:\n",
    "    DEPH = (easy_CORA_test['PRES']*1000) / (easy_CORA_test['DENS'] * 9.81)\n",
    "    easy_CORA_test['DEPH'] = DEPH\n",
    "    print('DEPH added to easy_CORA_test')\n",
    "\n",
    "import pandas as pd\n",
    "\n",
    "start_date = pd.Timestamp('1982-01-01')\n",
    "end_date = pd.Timestamp('2023-12-31')\n",
    "\n",
    "if start_date <= easy_CORA_test.TIME[0].values < end_date:\n",
    "    print('The first time is between the start and end dates.')\n",
    "else:\n",
    "    print('The first time is not between the start and end dates.')"
   ]
  },
  {
   "cell_type": "code",
   "execution_count": null,
   "metadata": {},
   "outputs": [],
   "source": [
    "def load_in_insitu_data(data_dir):\n",
    "    insitu_data = xr.open_dataset(data_dir)\n",
    "\n",
    "    if 'DEPH' not in insitu_data: # if DEPH is not in the dataset then add it\n",
    "        DEPH = (insitu_data['PRES']*1000) / (insitu_data['DENS'] * 9.81) \n",
    "        insitu_data['DEPH'] = DEPH\n",
    "        print('DEPH added to easy_CORA_test')\n",
    "\n",
    "    start_date = pd.Timestamp('1982-01-01')\n",
    "    end_date = pd.Timestamp('2023-12-31')\n",
    "\n",
    "    if start_date <= easy_CORA_test.TIME[0].values < end_date:\n",
    "        print('The first time is between the start and end dates.')\n",
    "        insitu_data = insitu_data[['DEPH', 'TEMP', 'PSAL', 'PRES', 'TIME', 'LATITUDE', 'LONGITUDE']]\n",
    "\n",
    "        insitu_data_df = insitu_data.to_dataframe() # convert to pandas dataframe\n",
    "        insitu_data_df.dropna(subset=['TEMP'], inplace=True) # drop rows where TEMP is NaN\n",
    "        insitu_data_df = insitu_data_df[insitu_data_df['DEPH'] <= 3] # only keep data above 3m\n",
    "\n",
    "        if not insitu_data_df.empty:\n",
    "            return insitu_data_df\n",
    "        else:\n",
    "            return None\n",
    "        \n",
    "    else:\n",
    "        return None"
   ]
  },
  {
   "cell_type": "code",
   "execution_count": 149,
   "metadata": {},
   "outputs": [
    {
     "data": {
      "text/html": [
       "<div>\n",
       "<style scoped>\n",
       "    .dataframe tbody tr th:only-of-type {\n",
       "        vertical-align: middle;\n",
       "    }\n",
       "\n",
       "    .dataframe tbody tr th {\n",
       "        vertical-align: top;\n",
       "    }\n",
       "\n",
       "    .dataframe thead th {\n",
       "        text-align: right;\n",
       "    }\n",
       "</style>\n",
       "<table border=\"1\" class=\"dataframe\">\n",
       "  <thead>\n",
       "    <tr style=\"text-align: right;\">\n",
       "      <th></th>\n",
       "      <th></th>\n",
       "      <th>DEPH</th>\n",
       "      <th>TEMP</th>\n",
       "      <th>PSAL</th>\n",
       "      <th>PRES</th>\n",
       "      <th>TIME</th>\n",
       "      <th>LATITUDE</th>\n",
       "      <th>LONGITUDE</th>\n",
       "    </tr>\n",
       "    <tr>\n",
       "      <th>N_PROF</th>\n",
       "      <th>N_LEVELS</th>\n",
       "      <th></th>\n",
       "      <th></th>\n",
       "      <th></th>\n",
       "      <th></th>\n",
       "      <th></th>\n",
       "      <th></th>\n",
       "      <th></th>\n",
       "    </tr>\n",
       "  </thead>\n",
       "  <tbody>\n",
       "    <tr>\n",
       "      <th>13</th>\n",
       "      <th>0</th>\n",
       "      <td>2.0</td>\n",
       "      <td>-1.18</td>\n",
       "      <td>31.770000</td>\n",
       "      <td>NaN</td>\n",
       "      <td>2022-01-02 04:14:00</td>\n",
       "      <td>65.84</td>\n",
       "      <td>-38.13</td>\n",
       "    </tr>\n",
       "    <tr>\n",
       "      <th>14</th>\n",
       "      <th>0</th>\n",
       "      <td>2.0</td>\n",
       "      <td>-1.86</td>\n",
       "      <td>32.860001</td>\n",
       "      <td>NaN</td>\n",
       "      <td>2022-01-02 04:07:00</td>\n",
       "      <td>77.82</td>\n",
       "      <td>-71.57</td>\n",
       "    </tr>\n",
       "    <tr>\n",
       "      <th>16</th>\n",
       "      <th>0</th>\n",
       "      <td>2.0</td>\n",
       "      <td>-1.86</td>\n",
       "      <td>32.880001</td>\n",
       "      <td>NaN</td>\n",
       "      <td>2022-01-02 23:34:00</td>\n",
       "      <td>77.82</td>\n",
       "      <td>-71.57</td>\n",
       "    </tr>\n",
       "  </tbody>\n",
       "</table>\n",
       "</div>"
      ],
      "text/plain": [
       "                 DEPH  TEMP       PSAL  PRES                TIME  LATITUDE  \\\n",
       "N_PROF N_LEVELS                                                              \n",
       "13     0          2.0 -1.18  31.770000   NaN 2022-01-02 04:14:00     65.84   \n",
       "14     0          2.0 -1.86  32.860001   NaN 2022-01-02 04:07:00     77.82   \n",
       "16     0          2.0 -1.86  32.880001   NaN 2022-01-02 23:34:00     77.82   \n",
       "\n",
       "                 LONGITUDE  \n",
       "N_PROF N_LEVELS             \n",
       "13     0            -38.13  \n",
       "14     0            -71.57  \n",
       "16     0            -71.57  "
      ]
     },
     "execution_count": 149,
     "metadata": {},
     "output_type": "execute_result"
    }
   ],
   "source": [
    "easy_CORA_test_df = easy_CORA_test.to_dataframe()\n",
    "easy_CORA_test_df.dropna(subset=['TEMP'], inplace=True)\n",
    "easy_CORA_test_df = easy_CORA_test_df[easy_CORA_test_df['DEPH'] <= 3] # only keep data above 3m\n",
    "easy_CORA_test_df"
   ]
  }
 ],
 "metadata": {
  "kernelspec": {
   "display_name": "GFSTS_base",
   "language": "python",
   "name": "python3"
  },
  "language_info": {
   "codemirror_mode": {
    "name": "ipython",
    "version": 3
   },
   "file_extension": ".py",
   "mimetype": "text/x-python",
   "name": "python",
   "nbconvert_exporter": "python",
   "pygments_lexer": "ipython3",
   "version": "3.8.17"
  }
 },
 "nbformat": 4,
 "nbformat_minor": 2
}
